{
 "cells": [
  {
   "cell_type": "markdown",
   "id": "e2fab3b2",
   "metadata": {},
   "source": [
    "# String operations in python"
   ]
  },
  {
   "cell_type": "code",
   "execution_count": 73,
   "id": "8228c6a8",
   "metadata": {},
   "outputs": [
    {
     "name": "stdout",
     "output_type": "stream",
     "text": [
      "Hello\n"
     ]
    }
   ],
   "source": [
    "a = \"Hello\"\n",
    "print(a)"
   ]
  },
  {
   "cell_type": "markdown",
   "id": "69a41f72",
   "metadata": {},
   "source": [
    "### Accessing individual letters"
   ]
  },
  {
   "cell_type": "code",
   "execution_count": 74,
   "id": "95c0677a",
   "metadata": {},
   "outputs": [
    {
     "name": "stdout",
     "output_type": "stream",
     "text": [
      "e\n"
     ]
    }
   ],
   "source": [
    "a = \"Hello, World!\"\n",
    "print(a[1])"
   ]
  },
  {
   "cell_type": "code",
   "execution_count": 75,
   "id": "434d08f1",
   "metadata": {},
   "outputs": [
    {
     "name": "stdout",
     "output_type": "stream",
     "text": [
      "llo\n"
     ]
    }
   ],
   "source": [
    "b = \"Hello, World!\"\n",
    "print(b[2:5])"
   ]
  },
  {
   "cell_type": "markdown",
   "id": "2f21d9cc",
   "metadata": {},
   "source": [
    "### String functions"
   ]
  },
  {
   "cell_type": "code",
   "execution_count": 76,
   "id": "0364ac40",
   "metadata": {},
   "outputs": [
    {
     "name": "stdout",
     "output_type": "stream",
     "text": [
      "13\n",
      "HELLO, WORLD!\n",
      "hello, world!\n",
      "Jello, World!\n"
     ]
    }
   ],
   "source": [
    "a = \"Hello, World!\"\n",
    "print(len(a))#prints the length of the string\n",
    "print(a.upper())#prints the string in upper case\n",
    "print(a.lower())#prints the string in lower case\n",
    "print(a.replace(\"H\", \"J\"))#replaces and prints the specified letter with specified letter"
   ]
  },
  {
   "cell_type": "markdown",
   "id": "8caed2b1",
   "metadata": {},
   "source": [
    "### String concatenation"
   ]
  },
  {
   "cell_type": "code",
   "execution_count": 77,
   "id": "c82dd2c7",
   "metadata": {},
   "outputs": [
    {
     "name": "stdout",
     "output_type": "stream",
     "text": [
      "Hello World\n"
     ]
    }
   ],
   "source": [
    "#c prints the combination of a and b\n",
    "a = \"Hello\"\n",
    "b = \"World\"\n",
    "c = a + \" \" + b\n",
    "print(c)"
   ]
  },
  {
   "cell_type": "markdown",
   "id": "77afb671",
   "metadata": {},
   "source": [
    "### String methods"
   ]
  },
  {
   "cell_type": "code",
   "execution_count": 78,
   "id": "2497e589",
   "metadata": {},
   "outputs": [
    {
     "data": {
      "text/plain": [
       "False"
      ]
     },
     "execution_count": 78,
     "metadata": {},
     "output_type": "execute_result"
    }
   ],
   "source": [
    "#Returns true if all of the alphabetic letters in the string are lowercase\n",
    "a=\" NAGA SATYA\"\n",
    "a.islower()"
   ]
  },
  {
   "cell_type": "code",
   "execution_count": 79,
   "id": "68292a94",
   "metadata": {},
   "outputs": [],
   "source": [
    "a = \"Hello, World!\"\n",
    "b=\"HELLO\"\n",
    "c=\"456\""
   ]
  },
  {
   "cell_type": "code",
   "execution_count": 80,
   "id": "0e615a11",
   "metadata": {},
   "outputs": [
    {
     "data": {
      "text/plain": [
       "False"
      ]
     },
     "execution_count": 80,
     "metadata": {},
     "output_type": "execute_result"
    }
   ],
   "source": [
    "#Returns true if the string contains only alphabetic letters or digits\n",
    "a.isalnum()"
   ]
  },
  {
   "cell_type": "code",
   "execution_count": 81,
   "id": "9669f4c1",
   "metadata": {},
   "outputs": [
    {
     "data": {
      "text/plain": [
       "True"
      ]
     },
     "execution_count": 81,
     "metadata": {},
     "output_type": "execute_result"
    }
   ],
   "source": [
    "#Returns true if the string contains only alphabetic letters\n",
    "b.isalpha()"
   ]
  },
  {
   "cell_type": "code",
   "execution_count": 82,
   "id": "c4ef4c64",
   "metadata": {},
   "outputs": [
    {
     "data": {
      "text/plain": [
       "False"
      ]
     },
     "execution_count": 82,
     "metadata": {},
     "output_type": "execute_result"
    }
   ],
   "source": [
    "#Returns true if the string contains only whitespace characters\n",
    "a.isspace()"
   ]
  },
  {
   "cell_type": "code",
   "execution_count": 83,
   "id": "5577e03d",
   "metadata": {},
   "outputs": [
    {
     "data": {
      "text/plain": [
       "True"
      ]
     },
     "execution_count": 83,
     "metadata": {},
     "output_type": "execute_result"
    }
   ],
   "source": [
    "#Returns true if the string contains only numeric digits\n",
    "c.isdigit()"
   ]
  },
  {
   "cell_type": "code",
   "execution_count": 84,
   "id": "9bd40e7a",
   "metadata": {},
   "outputs": [
    {
     "data": {
      "text/plain": [
       "True"
      ]
     },
     "execution_count": 84,
     "metadata": {},
     "output_type": "execute_result"
    }
   ],
   "source": [
    "#Returns true if all of the letters in the string are uppercase\n",
    "b.isupper()"
   ]
  },
  {
   "cell_type": "markdown",
   "id": "a58d42a8",
   "metadata": {},
   "source": [
    "### String modification methods"
   ]
  },
  {
   "cell_type": "code",
   "execution_count": 85,
   "id": "4d03fa17",
   "metadata": {},
   "outputs": [
    {
     "data": {
      "text/plain": [
       "'Naga Satya'"
      ]
     },
     "execution_count": 85,
     "metadata": {},
     "output_type": "execute_result"
    }
   ],
   "source": [
    "#Returns a copy of the string with all leading whitespace characters removed\n",
    "a=\" Naga Satya\"\n",
    "a.lstrip()"
   ]
  },
  {
   "cell_type": "code",
   "execution_count": 86,
   "id": "f16a202d",
   "metadata": {},
   "outputs": [
    {
     "data": {
      "text/plain": [
       "'aga Satya'"
      ]
     },
     "execution_count": 86,
     "metadata": {},
     "output_type": "execute_result"
    }
   ],
   "source": [
    "#Returns a copy of the string with all instances of char that appear at the beginning of the string removed.\n",
    "a.lstrip(' N')"
   ]
  },
  {
   "cell_type": "code",
   "execution_count": 87,
   "id": "dd4fd9a9",
   "metadata": {},
   "outputs": [
    {
     "data": {
      "text/plain": [
       "' Naga Satya'"
      ]
     },
     "execution_count": 87,
     "metadata": {},
     "output_type": "execute_result"
    }
   ],
   "source": [
    "#Returns a copy of the string with all trailing whitespace characters removed.\n",
    "a.rstrip()"
   ]
  },
  {
   "cell_type": "code",
   "execution_count": 88,
   "id": "993f5a1e",
   "metadata": {},
   "outputs": [
    {
     "data": {
      "text/plain": [
       "' Naga Satya'"
      ]
     },
     "execution_count": 88,
     "metadata": {},
     "output_type": "execute_result"
    }
   ],
   "source": [
    "#Returns a copy of the string with allinstances of char that appear at the ending of the string removed.\n",
    "a.rstrip('A')"
   ]
  },
  {
   "cell_type": "code",
   "execution_count": 89,
   "id": "dc6f8176",
   "metadata": {},
   "outputs": [
    {
     "data": {
      "text/plain": [
       "'Naga Satya'"
      ]
     },
     "execution_count": 89,
     "metadata": {},
     "output_type": "execute_result"
    }
   ],
   "source": [
    "#Returns a copy of string by removing whitespaces at begining and ending\n",
    "a.strip()"
   ]
  },
  {
   "cell_type": "code",
   "execution_count": 90,
   "id": "e37fcbf1",
   "metadata": {},
   "outputs": [
    {
     "data": {
      "text/plain": [
       "' Naga Satya'"
      ]
     },
     "execution_count": 90,
     "metadata": {},
     "output_type": "execute_result"
    }
   ],
   "source": [
    "#Returns a copy of the string with all instances of char that appear at the beginning and the end of the string removed.\n",
    "a.strip('N')"
   ]
  },
  {
   "cell_type": "code",
   "execution_count": 91,
   "id": "12bd00ce",
   "metadata": {},
   "outputs": [
    {
     "data": {
      "text/plain": [
       "' NAGA SATYA'"
      ]
     },
     "execution_count": 91,
     "metadata": {},
     "output_type": "execute_result"
    }
   ],
   "source": [
    "#converts the string to uppercase\n",
    "a.upper()"
   ]
  },
  {
   "cell_type": "markdown",
   "id": "f8e2463a",
   "metadata": {},
   "source": [
    "### Search and replace string methods"
   ]
  },
  {
   "cell_type": "code",
   "execution_count": 92,
   "id": "d1db2b30",
   "metadata": {},
   "outputs": [
    {
     "data": {
      "text/plain": [
       "True"
      ]
     },
     "execution_count": 92,
     "metadata": {},
     "output_type": "execute_result"
    }
   ],
   "source": [
    "#returns true if the string ends with the given sub string\n",
    "a.endswith(\"Satya\")"
   ]
  },
  {
   "cell_type": "code",
   "execution_count": 93,
   "id": "b58aed87",
   "metadata": {},
   "outputs": [
    {
     "data": {
      "text/plain": [
       "False"
      ]
     },
     "execution_count": 93,
     "metadata": {},
     "output_type": "execute_result"
    }
   ],
   "source": [
    "#returns true if the string starts with substring.\n",
    "a.startswith(\"Satya\")"
   ]
  },
  {
   "cell_type": "code",
   "execution_count": 94,
   "id": "009ea52d",
   "metadata": {},
   "outputs": [
    {
     "data": {
      "text/plain": [
       "6"
      ]
     },
     "execution_count": 94,
     "metadata": {},
     "output_type": "execute_result"
    }
   ],
   "source": [
    "#returns the position of the given substring \n",
    "a.find(\"Satya\")"
   ]
  },
  {
   "cell_type": "code",
   "execution_count": 95,
   "id": "d926791c",
   "metadata": {},
   "outputs": [
    {
     "data": {
      "text/plain": [
       "' Naga Gangadhar'"
      ]
     },
     "execution_count": 95,
     "metadata": {},
     "output_type": "execute_result"
    }
   ],
   "source": [
    "#returns a copy of the string with all instances of old replaced by new\n",
    "a.replace(\"Satya\",\"Gangadhar\")"
   ]
  },
  {
   "cell_type": "code",
   "execution_count": 96,
   "id": "e6610ea0",
   "metadata": {},
   "outputs": [
    {
     "data": {
      "text/plain": [
       "False"
      ]
     },
     "execution_count": 96,
     "metadata": {},
     "output_type": "execute_result"
    }
   ],
   "source": [
    "#returns true if the string starts with substring.\n",
    "a.startswith(\"N\")"
   ]
  },
  {
   "cell_type": "markdown",
   "id": "fa33b5e5",
   "metadata": {},
   "source": [
    "### Splitting a string"
   ]
  },
  {
   "cell_type": "code",
   "execution_count": 97,
   "id": "71e9818c",
   "metadata": {},
   "outputs": [
    {
     "data": {
      "text/plain": [
       "['Bharadwaj', 'Naga', 'Satya', 'Gangadhar']"
      ]
     },
     "execution_count": 97,
     "metadata": {},
     "output_type": "execute_result"
    }
   ],
   "source": [
    "#split()-returns a list containing the words in the string\n",
    "str = 'Bharadwaj Naga Satya Gangadhar'\n",
    "words = str.split()\n",
    "words"
   ]
  },
  {
   "cell_type": "code",
   "execution_count": 98,
   "id": "5ff3604f",
   "metadata": {},
   "outputs": [
    {
     "data": {
      "text/plain": [
       "['www', 'example', 'com']"
      ]
     },
     "execution_count": 98,
     "metadata": {},
     "output_type": "execute_result"
    }
   ],
   "source": [
    "#returns a list by splits the string into substrings when \".\" is present in a string\n",
    "my_address = 'www.example.com'\n",
    "tokens = my_address.split('.')\n",
    "tokens"
   ]
  },
  {
   "cell_type": "code",
   "execution_count": 99,
   "id": "534005c3",
   "metadata": {},
   "outputs": [
    {
     "data": {
      "text/plain": [
       "['1', '2', '3', '4', '5']"
      ]
     },
     "execution_count": 99,
     "metadata": {},
     "output_type": "execute_result"
    }
   ],
   "source": [
    "#returns a list by splits the string into substrings when \"/\" is present in a string\n",
    "num='1/2/3/4/5'\n",
    "result=num.split('/')\n",
    "result"
   ]
  },
  {
   "cell_type": "markdown",
   "id": "8919fcd4",
   "metadata": {},
   "source": [
    "# Regular expressions"
   ]
  },
  {
   "cell_type": "code",
   "execution_count": 100,
   "id": "b870e641",
   "metadata": {},
   "outputs": [
    {
     "data": {
      "text/plain": [
       "['abc', 'abc', 'abc', 'abc', 'abc']"
      ]
     },
     "execution_count": 100,
     "metadata": {},
     "output_type": "execute_result"
    }
   ],
   "source": [
    "#Tokenizes input text by finding all non-overlapping occurrences of 'abc'\n",
    "import regex as re\n",
    "def tokenize(text):\n",
    "    return re.findall(r'abc', text)\n",
    "x = tokenize(\"abcd 45abc abc% abc.com acbrx .=.abc.=. ab c cba ABC \")\n",
    "x"
   ]
  },
  {
   "cell_type": "code",
   "execution_count": 101,
   "id": "6d858a22",
   "metadata": {},
   "outputs": [
    {
     "data": {
      "text/plain": [
       "['gooey', 'moody', 'roody', 'goofy', 'loopy']"
      ]
     },
     "execution_count": 101,
     "metadata": {},
     "output_type": "execute_result"
    }
   ],
   "source": [
    "# Returns a list of substrings matching the pattern: character, 'oo', any character, 'y'.\n",
    "import regex as re\n",
    "def tokenize(text):\n",
    "    return re.findall(r'.oo.y', text)\n",
    "x = tokenize(\" abcd gooey moody broody goofy gummy mooooudy loopy ooy \")\n",
    "x"
   ]
  },
  {
   "cell_type": "code",
   "execution_count": 102,
   "id": "a6e29497",
   "metadata": {},
   "outputs": [
    {
     "data": {
      "text/plain": [
       "['abc.abc.com', 'abc.abc,com']"
      ]
     },
     "execution_count": 102,
     "metadata": {},
     "output_type": "execute_result"
    }
   ],
   "source": [
    "# Finds occurrences of 'abc.abc.com' in text, sensitive to exact match including the dot.\n",
    "import regex as re\n",
    "def tokenize(text):\n",
    "    return re.findall(r'abc\\.abc.com', text)\n",
    "x = tokenize(\"abc.abc.com abc.abc,com abc,abc.com ABC.abc.com \")\n",
    "x"
   ]
  },
  {
   "cell_type": "code",
   "execution_count": 103,
   "id": "1d4e5666",
   "metadata": {},
   "outputs": [
    {
     "name": "stdout",
     "output_type": "stream",
     "text": [
      "['The']\n",
      "[]\n",
      "[]\n"
     ]
    }
   ],
   "source": [
    "# program to find occurrences of a word at the beginning of a string \n",
    "import regex as re\n",
    "def tokenize(text):\n",
    "    return re.findall(r'^The', text)\n",
    "x = tokenize(\"Them \")\n",
    "print(x)\n",
    "y= tokenize(\"them\")\n",
    "print(y)\n",
    "z=tokenize(\"they\")\n",
    "print(z)"
   ]
  },
  {
   "cell_type": "code",
   "execution_count": 104,
   "id": "82829327",
   "metadata": {},
   "outputs": [
    {
     "name": "stdout",
     "output_type": "stream",
     "text": [
      "['Bye']\n",
      "[]\n"
     ]
    }
   ],
   "source": [
    "# program to find occurrences of a word at the ending of a string \n",
    "import regex as re\n",
    "def tokenize(text):\n",
    "    return re.findall(r'Bye$', text)\n",
    "x = tokenize(\"They said goodBye\")\n",
    "print(x)\n",
    "y= tokenize(\"He said goodBye \")\n",
    "print(y)"
   ]
  },
  {
   "cell_type": "code",
   "execution_count": 105,
   "id": "56dd5073",
   "metadata": {},
   "outputs": [
    {
     "name": "stdout",
     "output_type": "stream",
     "text": [
      "['abc', 'xyz', 'xyz']\n"
     ]
    }
   ],
   "source": [
    "# program to find occurrences of abc or xyz in the given string \n",
    "import regex as re\n",
    "def tokenize(text):\n",
    "    return re.findall(r'abc|xyz', text)\n",
    "x = tokenize(\"abcd xsdxyz xyz derf\")\n",
    "print(x)"
   ]
  },
  {
   "cell_type": "code",
   "execution_count": 106,
   "id": "66a485fd",
   "metadata": {},
   "outputs": [
    {
     "name": "stdout",
     "output_type": "stream",
     "text": [
      "['Homer Simpson', 'Marge Simpson']\n",
      "['Homer', 'Marge']\n"
     ]
    }
   ],
   "source": [
    "# program to find occurrence of a Homer Simpson|Marge Simpson in the given string \n",
    "import regex as re\n",
    "def tokenize1(text):\n",
    "    return re.findall(r'Homer Simpson|Marge Simpson', text)\n",
    "def tokenize2(text):\n",
    "    return re.findall(r'(Homer|Marge) Simpson', text)\n",
    "x = tokenize1(\"Homer Williams Homer Simpson Marge Simpson\")\n",
    "print(x)\n",
    "x = tokenize2(\"Homer Williams Homer Simpson Marge Simpson\")\n",
    "print(x)"
   ]
  }
 ],
 "metadata": {
  "kernelspec": {
   "display_name": "Python 3 (ipykernel)",
   "language": "python",
   "name": "python3"
  },
  "language_info": {
   "codemirror_mode": {
    "name": "ipython",
    "version": 3
   },
   "file_extension": ".py",
   "mimetype": "text/x-python",
   "name": "python",
   "nbconvert_exporter": "python",
   "pygments_lexer": "ipython3",
   "version": "3.11.5"
  }
 },
 "nbformat": 4,
 "nbformat_minor": 5
}
