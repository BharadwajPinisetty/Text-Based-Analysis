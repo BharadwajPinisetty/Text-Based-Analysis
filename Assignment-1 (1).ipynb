{
 "cells": [
  {
   "cell_type": "markdown",
   "id": "0be2575c",
   "metadata": {},
   "source": [
    "# String operations"
   ]
  },
  {
   "cell_type": "markdown",
   "id": "d42c5afb",
   "metadata": {},
   "source": [
    "#### The casefold() method is used to lower case the string"
   ]
  },
  {
   "cell_type": "code",
   "execution_count": 50,
   "id": "0ec64401",
   "metadata": {},
   "outputs": [
    {
     "data": {
      "text/plain": [
       "'i am pioneer of sacred heart university'"
      ]
     },
     "execution_count": 50,
     "metadata": {},
     "output_type": "execute_result"
    }
   ],
   "source": [
    "string= \"I am Pioneer of Sacred Heart University\"\n",
    "string.casefold()"
   ]
  },
  {
   "cell_type": "markdown",
   "id": "6e737759",
   "metadata": {},
   "source": [
    "#### The index() method searches the string for the given value and returns its position"
   ]
  },
  {
   "cell_type": "code",
   "execution_count": 51,
   "id": "611aa58b",
   "metadata": {},
   "outputs": [
    {
     "data": {
      "text/plain": [
       "8"
      ]
     },
     "execution_count": 51,
     "metadata": {},
     "output_type": "execute_result"
    }
   ],
   "source": [
    "text= \"Welcome to connecticut\"\n",
    "text.index(\"to\")"
   ]
  },
  {
   "cell_type": "markdown",
   "id": "aa20cbde",
   "metadata": {},
   "source": [
    "#### The isascii() method returns true if the string contains ascii characters"
   ]
  },
  {
   "cell_type": "code",
   "execution_count": 52,
   "id": "d05e46f4",
   "metadata": {},
   "outputs": [
    {
     "data": {
      "text/plain": [
       "True"
      ]
     },
     "execution_count": 52,
     "metadata": {},
     "output_type": "execute_result"
    }
   ],
   "source": [
    "company=\"Decision consultant solutions-03!\"\n",
    "company.isascii()"
   ]
  },
  {
   "cell_type": "markdown",
   "id": "1714596f",
   "metadata": {},
   "source": [
    "#### The isdecimal() methods returns true if all the characters in the string are decimals"
   ]
  },
  {
   "cell_type": "code",
   "execution_count": 53,
   "id": "2a323413",
   "metadata": {},
   "outputs": [
    {
     "data": {
      "text/plain": [
       "True"
      ]
     },
     "execution_count": 53,
     "metadata": {},
     "output_type": "execute_result"
    }
   ],
   "source": [
    "number=\"12121979\"\n",
    "number.isdecimal()"
   ]
  },
  {
   "cell_type": "markdown",
   "id": "e8e75146",
   "metadata": {},
   "source": [
    "#### The join() method is used to join all items in a tupple to a string"
   ]
  },
  {
   "cell_type": "code",
   "execution_count": 54,
   "id": "90ed3216",
   "metadata": {},
   "outputs": [
    {
     "data": {
      "text/plain": [
       "'Bharadwaj,Naga,Satya,Gangadhar'"
      ]
     },
     "execution_count": 54,
     "metadata": {},
     "output_type": "execute_result"
    }
   ],
   "source": [
    "tupple=(\"Bharadwaj\",\"Naga\",\"Satya\",\"Gangadhar\")\n",
    "\",\".join(tupple)"
   ]
  },
  {
   "cell_type": "markdown",
   "id": "c20d0973",
   "metadata": {},
   "source": [
    "#### The splitlines() method splits the string into a list where each line is a string item"
   ]
  },
  {
   "cell_type": "code",
   "execution_count": 55,
   "id": "38d8620c",
   "metadata": {},
   "outputs": [
    {
     "data": {
      "text/plain": [
       "['Subject is text based analysis', 'Its class day', 'Its raning heavily']"
      ]
     },
     "execution_count": 55,
     "metadata": {},
     "output_type": "execute_result"
    }
   ],
   "source": [
    "course=\"Subject is text based analysis\\nIts class day\\nIts raning heavily\"\n",
    "course.splitlines()"
   ]
  },
  {
   "cell_type": "markdown",
   "id": "e1e375bd",
   "metadata": {},
   "source": [
    "#### The replace() method returns a string where a specified value is replaced with a specfied value "
   ]
  },
  {
   "cell_type": "code",
   "execution_count": 56,
   "id": "f320f6f8",
   "metadata": {},
   "outputs": [
    {
     "data": {
      "text/plain": [
       "'I like to eat apples'"
      ]
     },
     "execution_count": 56,
     "metadata": {},
     "output_type": "execute_result"
    }
   ],
   "source": [
    "fruit=\"I like to eat mangoes\"\n",
    "fruit.replace(\"mangoes\",\"apples\")"
   ]
  },
  {
   "cell_type": "markdown",
   "id": "d0a9bec7",
   "metadata": {},
   "source": [
    "#### The title() method converts the first character of each word to uppercase"
   ]
  },
  {
   "cell_type": "code",
   "execution_count": 57,
   "id": "09b00d1e",
   "metadata": {},
   "outputs": [
    {
     "data": {
      "text/plain": [
       "'Data Scientists'"
      ]
     },
     "execution_count": 57,
     "metadata": {},
     "output_type": "execute_result"
    }
   ],
   "source": [
    "Textbook=\"data scientists\"\n",
    "Textbook.title()"
   ]
  },
  {
   "cell_type": "markdown",
   "id": "597899f0",
   "metadata": {},
   "source": [
    "#### The expandtabs() methods expands the tab size of the string"
   ]
  },
  {
   "cell_type": "code",
   "execution_count": 58,
   "id": "206dd4c6",
   "metadata": {},
   "outputs": [
    {
     "data": {
      "text/plain": [
       "'United  states  of  america'"
      ]
     },
     "execution_count": 58,
     "metadata": {},
     "output_type": "execute_result"
    }
   ],
   "source": [
    "words=\"United\\tstates\\tof\\tamerica\"\n",
    "words.expandtabs(2)"
   ]
  },
  {
   "cell_type": "markdown",
   "id": "3bc81ee9",
   "metadata": {},
   "source": [
    "#### The count() method returns the number of times the value appear in the string"
   ]
  },
  {
   "cell_type": "code",
   "execution_count": 59,
   "id": "fa88b46f",
   "metadata": {},
   "outputs": [
    {
     "data": {
      "text/plain": [
       "10"
      ]
     },
     "execution_count": 59,
     "metadata": {},
     "output_type": "execute_result"
    }
   ],
   "source": [
    "Name= \"Bharadwaj Naga Satya Gangadhar Pinisetty\"\n",
    "Name.count(\"a\")"
   ]
  },
  {
   "cell_type": "markdown",
   "id": "fd9cba08",
   "metadata": {},
   "source": [
    "#### The capitalize() method is used to upper case the first letter in the sentence"
   ]
  },
  {
   "cell_type": "code",
   "execution_count": 45,
   "id": "080a07f9",
   "metadata": {},
   "outputs": [
    {
     "data": {
      "text/plain": [
       "'This is stratford avenue!'"
      ]
     },
     "execution_count": 45,
     "metadata": {},
     "output_type": "execute_result"
    }
   ],
   "source": [
    "text= \"this is stratford avenue!\"\n",
    "text.capitalize()"
   ]
  },
  {
   "cell_type": "markdown",
   "id": "2ab23ea4",
   "metadata": {},
   "source": [
    "# Regular Expressions"
   ]
  },
  {
   "cell_type": "markdown",
   "id": "5d7c197f",
   "metadata": {},
   "source": [
    "### Regex 1"
   ]
  },
  {
   "cell_type": "markdown",
   "id": "bea39d82",
   "metadata": {},
   "source": [
    "#### Program to extract for phone numbers in the given text using a specific pattern which printouts the phone number found."
   ]
  },
  {
   "cell_type": "code",
   "execution_count": 60,
   "id": "0ac731b8",
   "metadata": {},
   "outputs": [
    {
     "name": "stdout",
     "output_type": "stream",
     "text": [
      "numbers are:\n",
      "234-565-9087\n",
      "234.565.9088\n"
     ]
    }
   ],
   "source": [
    "import re\n",
    "string = \"For customer support, call 234-565-9087 or 234.565.9088.\"\n",
    "pattern = r'\\b\\d{3}[-.]\\d{3}[-.]\\d{4}\\b'\n",
    "check = re.findall(pattern, string)\n",
    "print(\"numbers are:\")\n",
    "for search in check:\n",
    "    print(search)\n"
   ]
  },
  {
   "cell_type": "markdown",
   "id": "9a7576bd",
   "metadata": {},
   "source": [
    "### Regex 2"
   ]
  },
  {
   "cell_type": "markdown",
   "id": "5b03e8a5",
   "metadata": {},
   "source": [
    "#### Program to extract numbers from a string"
   ]
  },
  {
   "cell_type": "code",
   "execution_count": 61,
   "id": "4d285f45",
   "metadata": {},
   "outputs": [
    {
     "name": "stdout",
     "output_type": "stream",
     "text": [
      "['27', '06613']\n"
     ]
    }
   ],
   "source": [
    "\n",
    "\n",
    "import re\n",
    "text = 'Lius is aged 27 and he lives in zipcode 06613'\n",
    "pattern = '\\d+'\n",
    "result = re.findall(pattern, text) \n",
    "print(result)\n"
   ]
  },
  {
   "cell_type": "markdown",
   "id": "667bb8c6",
   "metadata": {},
   "source": [
    "### Regex 3"
   ]
  },
  {
   "cell_type": "markdown",
   "id": "2d6a31cf",
   "metadata": {},
   "source": [
    "#### This code splits the given text when it encounters digits and prints the substrings as a list"
   ]
  },
  {
   "cell_type": "code",
   "execution_count": 62,
   "id": "1ee32059",
   "metadata": {},
   "outputs": [
    {
     "name": "stdout",
     "output_type": "stream",
     "text": [
      "['John is living in ', ' norwalk community.']\n"
     ]
    }
   ],
   "source": [
    "import re\n",
    "\n",
    "text=\"John is living in 1111 norwalk community.\"\n",
    "pattern = '\\d+'\n",
    "\n",
    "result = re.split(pattern, text) \n",
    "print(result)\n"
   ]
  },
  {
   "cell_type": "markdown",
   "id": "97750d7b",
   "metadata": {},
   "source": [
    "### Regex 4"
   ]
  },
  {
   "cell_type": "markdown",
   "id": "4ca305ad",
   "metadata": {},
   "source": [
    "#### This program provides a password strength validation for the given password"
   ]
  },
  {
   "cell_type": "code",
   "execution_count": 63,
   "id": "7ed2346c",
   "metadata": {},
   "outputs": [
    {
     "name": "stdout",
     "output_type": "stream",
     "text": [
      "Valid password!\n"
     ]
    }
   ],
   "source": [
    "import re\n",
    "text = \"my password is Qwerty@12098!\"\n",
    "pattern = r'(?=.*[a-zA-Z])(?=.*[0-9])(?=.*[!@#$%^&*])[a-zA-Z0-9!@#$%^&*]{8,}'\n",
    "result = re.search(pattern, text)\n",
    "if result:\n",
    "    print(\"Valid password!\")\n",
    "else:\n",
    "    print(\"Invalid password!\")"
   ]
  },
  {
   "cell_type": "markdown",
   "id": "c55a9441",
   "metadata": {},
   "source": [
    "### Regex 5"
   ]
  },
  {
   "cell_type": "markdown",
   "id": "3a856db2",
   "metadata": {},
   "source": [
    "#### This program is to find all words that are starting with # in the given text."
   ]
  },
  {
   "cell_type": "code",
   "execution_count": 64,
   "id": "51d0ddf8",
   "metadata": {},
   "outputs": [
    {
     "name": "stdout",
     "output_type": "stream",
     "text": [
      "Found result:\n",
      "#united\n",
      "#states\n",
      "#america\n"
     ]
    }
   ],
   "source": [
    "import re\n",
    "text = \"I like #united #states of #america!\"\n",
    "pattern = r'#\\w+'\n",
    "result = re.findall(pattern, text)\n",
    "print(\"Found result:\")\n",
    "for results in result:\n",
    "    print(results)"
   ]
  }
 ],
 "metadata": {
  "kernelspec": {
   "display_name": "Python 3 (ipykernel)",
   "language": "python",
   "name": "python3"
  },
  "language_info": {
   "codemirror_mode": {
    "name": "ipython",
    "version": 3
   },
   "file_extension": ".py",
   "mimetype": "text/x-python",
   "name": "python",
   "nbconvert_exporter": "python",
   "pygments_lexer": "ipython3",
   "version": "3.11.5"
  }
 },
 "nbformat": 4,
 "nbformat_minor": 5
}
